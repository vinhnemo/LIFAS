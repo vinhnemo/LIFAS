{
  "nbformat": 4,
  "nbformat_minor": 0,
  "metadata": {
    "colab": {
      "name": "Untitled1.ipynb",
      "private_outputs": true,
      "provenance": [],
      "collapsed_sections": [],
      "authorship_tag": "ABX9TyPsgq5/ywXW/iS5lDm8j2e1",
      "include_colab_link": true
    },
    "kernelspec": {
      "name": "python3",
      "display_name": "Python 3"
    },
    "language_info": {
      "name": "python"
    }
  },
  "cells": [
    {
      "cell_type": "markdown",
      "metadata": {
        "id": "view-in-github",
        "colab_type": "text"
      },
      "source": [
        "<a href=\"https://colab.research.google.com/github/vinhnemo/LIFAS/blob/master/Audio%2C%20STFT%2C%20Melspectrograms%20with%20Python.ipynb\" target=\"_parent\"><img src=\"https://colab.research.google.com/assets/colab-badge.svg\" alt=\"Open In Colab\"/></a>"
      ]
    },
    {
      "cell_type": "code",
      "metadata": {
        "id": "A0yf_oV0-DyY"
      },
      "source": [
        "# @title Mount & Clone\n",
        "\n",
        "# Imports\n",
        "import requests\n",
        "\n",
        "# @markdown Mount GDrive\n",
        "Gdrive = True  # @param {type: 'boolean'}\n",
        "global path\n",
        "\n",
        "class MountClone:\n",
        "    def __init__(\n",
        "            self,\n",
        "            Gdrive=False,\n",
        "            repositoryUrl=\"\",\n",
        "            verbose=False):\n",
        "        \n",
        "        if Gdrive:\n",
        "            self.mount_drive()\n",
        "        if repositoryUrl:\n",
        "            self.clone_repo(repositoryUrl, verbose)\n",
        "\n",
        "    def __str__(self):\n",
        "        try:\n",
        "            return self.path\n",
        "        except NameError:\n",
        "            return ''\n",
        "        \n",
        "    def mount_drive(self):\n",
        "        from google.colab import drive\n",
        "        drive.mount('/content/drive')\n",
        "        self.path = \"/content/drive\"\n",
        "\n",
        "    def clone_repo(self, repositoryUrl, verbose=False):\n",
        "        response = requests.get(repositoryUrl)\n",
        "        if response.status_code == 200:\n",
        "            print(\"✔️ Public repository\")\n",
        "            ! cd /content\n",
        "            ! git clone $repositoryUrl\n",
        "            folder = repositoryUrl.split(\"/\")[-1]\n",
        "            self.path = f\"/content/{folder}\"\n",
        "        else:\n",
        "            print(\"❌ Not a public Repository\")\n",
        "\n",
        "if __name__ == \"__main__\":\n",
        "    path = MountClone(Gdrive=Gdrive)"
      ],
      "execution_count": null,
      "outputs": []
    }
  ]
}